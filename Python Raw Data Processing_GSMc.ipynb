{
 "cells": [
  {
   "metadata": {},
   "cell_type": "code",
   "source": [
    "\"\"\"\n",
    "Author: Lay Monica Ratna Dewi\n",
    "Correspondence email: lay.dewi@seh.ox.ac.uk\n",
    "It takes about 15 minutes to run the whole code.\n",
    "-----------------------------------------------------------------------------------------------------------------------------------------\n",
    "This is a Python program for processing raw data from The Global Soil Mycobiome consortium (GSMc) dataset.\n",
    "The GSMc dataset contains data for fungal species distribution in 108 countries, extracted from 3200 plots published by multiple studies.\n",
    "The dataset could be downloaded from the links below (see https://link.springer.com/article/10.1007/s13225-021-00493-7#additional-information for the reference study):\n",
    "\n",
    "1. The GSMc OTU-by-sample dataset is available from the PlutoF data repository (https://doi.org/10.15156/BIO/2263453) in six files:\n",
    "    a. OTU matrix in spreadsheet format (Tedersoo L, Mikryukov V, Anslan S et al. Fungi_GSMc_taxonomy-function table_final.xlsx);\n",
    "    b. Sample metadata (equivalent to Table S1) (Tedersoo L, Mikryukov V, Anslan S et al. Fungi_GSMc_sample_metadata.txt);\n",
    "    c. Taxonomic and functional description of OTUs (Fungi_GSMc_OTU_Table.txt);\n",
    "    d. OTU sequences in FASTA format (Tedersoo L, Mikryukov V, Anslan S et al. Fungi_GSMc_OTUs_fasta.fasta);\n",
    "    e. Data in Biological Observation Matrix (BIOM) format (Tedersoo L, Mikryukov V, Anslan S et al. Fungi_GSMc_data_biom.biom).\n",
    "    f. Information file (readme.txt).\n",
    "2. Table S1 of the study (for easier data processing, use this one instead of file 1b):\n",
    "    a. Download Supplementary File 1 (13225_2021_493_MOESM1_ESM.xlsx) from https://link.springer.com/article/10.1007/s13225-021-00493-7#Sec16.\n",
    "-----------------------------------------------------------------------------------------------------------------------------------------\n",
    "This code was created for and can be used for free for academic and educational purposes. No commercial use of this code is permitted. Recommended citation for this code:\n",
    "\n",
    "Dewi, LMR. Visualising Distribution of Fungal Species from The Global Soil Mycobiome consortium (GSMc) Dataset. Version 1, 2025. [Python Source Code]. Accessed: [Month. Day, Year]. Available: [GitHub Link].\n",
    "\"\"\""
   ],
   "id": "885dec6eb14fb51",
   "outputs": [],
   "execution_count": null
  },
  {
   "metadata": {},
   "cell_type": "code",
   "source": [
    "\"\"\" Step 1: How I setup Python environment and project\n",
    "Note: Since the Python environment has come as one package with the GitHub repository, users do not need to perform these steps. The documentation below is only for illustration and recommendations for setting up new project.\n",
    " 1. Open PyCharm\n",
    " 2. In the Welcome page, choose \"New Project\" and set up the project directory\n",
    " 3. Go to PyCharm Terminal (look for |>_| symbol)\n",
    " 4. Run the following commands in PyCharm terminal: (How to run them all at once?)\n",
    "    pip install biom-format (to install Biom library in order to process biom files)\n",
    "    pip install pandas (to install pandas library in order to process tables and dataframes)\n",
    "    pip install numpy (to install numpy library in order to perform mathematical operations)\n",
    "\"\"\""
   ],
   "id": "d348fc9a7753a6b4",
   "outputs": [],
   "execution_count": null
  },
  {
   "metadata": {},
   "cell_type": "code",
   "source": [
    "# to measure the time required to run the code\n",
    "import time\n",
    "start = time.perf_counter()\n",
    "start"
   ],
   "id": "a9b3a14e34a2c00a",
   "outputs": [],
   "execution_count": null
  },
  {
   "metadata": {},
   "cell_type": "code",
   "source": [
    "\"\"\" Step 2: Import the required libraries \"\"\"\n",
    "# to process BIOM table\n",
    "import biom\n",
    "from biom import example_table\n",
    "\n",
    "# to process tables and dataframes\n",
    "import pandas as pd\n",
    "\n",
    "# to map the data points agains the map coordinates\n",
    "import geopandas as gpd\n",
    "\n",
    "# to produce the map\n",
    "import folium as fol\n",
    "\n",
    "# check if the biom package has been successfully installed by loading the example table\n",
    "if print(example_table) != \"\":\n",
    "    print(\"Biom was successfully imported!\")\n",
    "else:\n",
    "    print(\"Biom was unsuccessfully imported!\")"
   ],
   "id": "d185a64d3dcf309d",
   "outputs": [],
   "execution_count": null
  },
  {
   "metadata": {},
   "cell_type": "code",
   "source": [
    "\"\"\" Step 3: Familiarising oneself with the files \"\"\"\n",
    "# based on the dataset information in readme.txt, we only need to work with 3 files to achieve the objective\n",
    "# the biom file contains information on species distribution by species code and country code, Table S1 contains the metadata for the country code, and the taxonomy-function excel table contains the mapping of species name for each of the species code\n",
    "# since this is a Python project, user does not need to define the directory in this chunk as long as they store the files and notebook files in the same directory\n",
    "# the files were downloaded from the GSMc data repository and have been stored in the same folder by the code author\n",
    "# define functions that read the files\n",
    "\n",
    "# define a function that reads the biom file\n",
    "def load_biom_table(input_biom_file):\n",
    "    if input_biom_file.endswith(\".biom\"):\n",
    "        biom_dataset_table = biom.load_table(f\"{input_biom_file}\")\n",
    "        biom_dataset_df = biom_dataset_table.to_dataframe()\n",
    "        return biom_dataset_df\n",
    "    elif not input_biom_file.endswith(\".biom\") == \"\":\n",
    "        return \"Please input the correct file format!\"\n",
    "    else:\n",
    "        return \"I expect at least one file to be specified!\"\n",
    "\n",
    "# define a function that reads the excel files\n",
    "def load_excel_table(input_excel_file):\n",
    "    if input_excel_file.endswith(\".xlsx\"):\n",
    "        excel_dataset_table = pd.read_excel(f\"{input_excel_file}\")\n",
    "        return excel_dataset_table\n",
    "    elif not input_excel_file.endswith(\".xlsx\") == \"\":\n",
    "        return \"Please input the correct file format!\"\n",
    "    else:\n",
    "        return \"I expect at least one file to be specified!\""
   ],
   "id": "c505beb585930bc2",
   "outputs": [],
   "execution_count": null
  },
  {
   "metadata": {},
   "cell_type": "code",
   "source": [
    "# define and assign the files to variables (variables for the file-reading functions inputs), which can be modified as necessary by the user\n",
    "fungal_biom_file = \"Tedersoo L, Mikryukov V, Anslan S et al. Fungi_GSMc_data_biom.biom\" #default input\n",
    "metadata_excel_file = \"13225_2021_493_MOESM1_ESM.xlsx\"\n",
    "taxonomy_excel_file = \"Tedersoo L, Mikryukov V, Anslan S et al. Fungi_GSMc_taxonomy-function table_final.xlsx\""
   ],
   "id": "ca521ad0612c4a05",
   "outputs": [],
   "execution_count": null
  },
  {
   "metadata": {},
   "cell_type": "code",
   "source": [
    "# load the biom table with load_biom_table function\n",
    "fungal_species_distribution = load_biom_table(fungal_biom_file)\n",
    "fungal_species_distribution"
   ],
   "id": "95068e673379b2b9",
   "outputs": [],
   "execution_count": null
  },
  {
   "metadata": {},
   "cell_type": "code",
   "source": [
    "# load the metadata excel file with load_excel_table function\n",
    "metadata = load_excel_table(metadata_excel_file)\n",
    "\n",
    "# create a new column containing country name only rather than country:subnational regions\n",
    "metadata[\"country\"] = metadata[\"locality\"].str.rsplit(\":\").str[0]\n",
    "metadata"
   ],
   "id": "7055328f44aecb70",
   "outputs": [],
   "execution_count": null
  },
  {
   "metadata": {},
   "cell_type": "code",
   "source": [
    "# load the taxonomy excel file with load_excel_table function\n",
    "taxonomy_table = load_excel_table(taxonomy_excel_file)\n",
    "taxonomy_table"
   ],
   "id": "d857976109676dbf",
   "outputs": [],
   "execution_count": null
  },
  {
   "metadata": {},
   "cell_type": "code",
   "source": [
    "# check unique name of countries from the column created in a previous ste\n",
    "metadata[\"country\"].unique()"
   ],
   "id": "d39e59ef96f1fd15",
   "outputs": [],
   "execution_count": null
  },
  {
   "metadata": {},
   "cell_type": "code",
   "source": [
    "# define a function to filter the metadata based on the country of interest\n",
    "def filter_by_country(dataframe, column, countries):\n",
    "    metadata_filtered = dataframe[dataframe[column].isin(countries)]\n",
    "    return metadata_filtered\n",
    "\n",
    "# define a function to check if there is any missing values for the data of interest\n",
    "def check_missing_data(dataframe, column):\n",
    "    missing_data = dataframe[dataframe[column].isnull()].count().sum()\n",
    "    return missing_data\n",
    "\n",
    "# define a function to check unique values of the data of interest\n",
    "def check_unique_values(dataframe, column):\n",
    "    data_content = dataframe[column].unique()\n",
    "    return data_content"
   ],
   "id": "7d07214f1bdb6a84",
   "outputs": [],
   "execution_count": null
  },
  {
   "metadata": {},
   "cell_type": "code",
   "source": [
    "# load the list of asian countries from the excel file\n",
    "countries = pd.read_excel(\"asian countries v3.xlsx\")\n",
    "countries = countries[countries[\"Southeast_Asia?\"] == \"Yes\"]\n",
    "countries = list(countries.iloc[:,1])\n",
    "countries"
   ],
   "id": "7e0c0d4e88792175",
   "outputs": [],
   "execution_count": null
  },
  {
   "metadata": {},
   "cell_type": "code",
   "source": [
    "# plot name could correspond to country and location\n",
    "column_name = \"country\"\n",
    "countries_name = countries\n",
    "\n",
    "# filter out data that do not belong to Southeast Asian countries\n",
    "country_level_table = filter_by_country(metadata, column_name, countries_name)\n",
    "country_level_table.head()\n"
   ],
   "id": "a0b5e7219c3440e5",
   "outputs": [],
   "execution_count": null
  },
  {
   "metadata": {},
   "cell_type": "code",
   "source": [
    "# produce a list of codes corresponding to areas belonging to the Southeast Asian countries\n",
    "country_plot_code = list(country_level_table['plot_name'])\n",
    "country_plot_code"
   ],
   "id": "f60b138c3fb9a384",
   "outputs": [],
   "execution_count": null
  },
  {
   "metadata": {},
   "cell_type": "code",
   "source": [
    "# filter out the plot codes that do not belong to the Southeast Asian countries\n",
    "country_fungal_species = fungal_species_distribution.filter(items = country_plot_code)\n",
    "\n",
    "# sum the values of the columns to identify which samples are identified in the respective countries\n",
    "country_fungal_species['samples_frequency'] = country_fungal_species.iloc[:,0:3].sum(axis = 1)\n",
    "\n",
    "# filter out samples that are not identified in the countries\n",
    "country_fungal_species_identified_only = country_fungal_species[country_fungal_species['samples_frequency']>0]\n",
    "country_fungal_species_identified_only"
   ],
   "id": "56cdd086f15b043c",
   "outputs": [],
   "execution_count": null
  },
  {
   "metadata": {},
   "cell_type": "code",
   "source": [
    "# insert row index so the Operational Taxonomic Units (OTU) now becomes a column\n",
    "country_fungal_species_identified_only = country_fungal_species_identified_only.reset_index()\n",
    "country_fungal_species_identified_only = country_fungal_species_identified_only.rename(columns={'index':'OTU'})\n",
    "country_fungal_species_identified_only"
   ],
   "id": "92c4ac0a616e5111",
   "outputs": [],
   "execution_count": null
  },
  {
   "metadata": {},
   "cell_type": "code",
   "source": [
    "# list the identified OTU\n",
    "list_of_identified_OTU = list(country_fungal_species_identified_only[\"OTU\"])\n",
    "list_of_identified_OTU"
   ],
   "id": "9211e983d8962b04",
   "outputs": [],
   "execution_count": null
  },
  {
   "metadata": {},
   "cell_type": "code",
   "source": [
    "#check for missing data\n",
    "column_name = \"phylum\"\n",
    "check_missing_data(taxonomy_table, column_name)"
   ],
   "id": "113366e5a4f01f32",
   "outputs": [],
   "execution_count": null
  },
  {
   "metadata": {},
   "cell_type": "code",
   "source": [
    "#check for unique values for phylum\n",
    "column_name = \"phylum\"\n",
    "check_unique_values(taxonomy_table, column_name)"
   ],
   "id": "9ef4e50b3b0d69f4",
   "outputs": [],
   "execution_count": null
  },
  {
   "metadata": {},
   "cell_type": "code",
   "source": [
    "# Filter out OTUs that are not identified in the countries of interest\n",
    "taxonomy_table_filtered = taxonomy_table[taxonomy_table[\"OTU\"].isin(list_of_identified_OTU)]\n",
    "taxonomy_table_filtered"
   ],
   "id": "e6f1c92d94b3ac9a",
   "outputs": [],
   "execution_count": null
  },
  {
   "metadata": {},
   "cell_type": "code",
   "source": [
    "# join the tables to connect the OTUs in fungal_species_distribution with the Phylum in taxonomy_table\n",
    "# to avoid dealing with larger amount of data than we should be, first we are going to filter OTUs and Phylum columns from the taxonomy_table\n",
    "selected_columns = [\"OTU\",\"phylum\", \"genus\"]\n",
    "taxonomy_table_identified_OTUs_phylum = taxonomy_table_filtered.filter(items = selected_columns)\n",
    "taxonomy_table_identified_OTUs_phylum"
   ],
   "id": "1a786ff2f52db28f",
   "outputs": [],
   "execution_count": null
  },
  {
   "metadata": {},
   "cell_type": "code",
   "source": [
    "# filter out columns that are not needed\n",
    "plot_coordinates = country_level_table.filter(items = [\"plot_name\", \"country\", \"latitude\", \"longitude\"],\n",
    "                                              axis = 1)\n",
    "plot_coordinates"
   ],
   "id": "5b4e564a5327d30e",
   "outputs": [],
   "execution_count": null
  },
  {
   "metadata": {},
   "cell_type": "code",
   "source": [
    "# merge the taxonomy table or country fungal species table\n",
    "merged_table_OTU_phylum = pd.merge(taxonomy_table_identified_OTUs_phylum,\n",
    "                                   country_fungal_species_identified_only,\n",
    "                                   left_on=\"OTU\",\n",
    "                                   right_on=\"OTU\")\n",
    "\n",
    "merged_table_OTU_phylum"
   ],
   "id": "6c9945abb40b8aad",
   "outputs": [],
   "execution_count": null
  },
  {
   "metadata": {},
   "cell_type": "code",
   "source": [
    "# transform the merged table into the wide format\n",
    "wide_format_merged_table_OTU_phylum = pd.melt(merged_table_OTU_phylum,\n",
    "        id_vars = [\"OTU\",\"phylum\", \"genus\", \"samples_frequency\"],\n",
    "        value_vars = country_plot_code,\n",
    "        var_name= \"plot_name\")\n",
    "\n",
    "wide_format_merged_table_OTU_phylum"
   ],
   "id": "14c3d7145cd33cc5",
   "outputs": [],
   "execution_count": null
  },
  {
   "metadata": {},
   "cell_type": "code",
   "source": [
    "# pivot the table to be a format the geopandas will be happy with\n",
    "final_table_for_pivot = pd.merge(plot_coordinates,\n",
    "                                 wide_format_merged_table_OTU_phylum,\n",
    "                                 left_on = \"plot_name\",\n",
    "                                 right_on = \"plot_name\")\n",
    "final_table_for_pivot"
   ],
   "id": "c7c35bf8a9106244",
   "outputs": [],
   "execution_count": null
  },
  {
   "metadata": {},
   "cell_type": "code",
   "source": [
    "# pivot the table to be a format geopandas will be happy with\n",
    "country_pivot_by_location = pd.pivot_table(final_table_for_pivot,\n",
    "            values = [\"value\"],\n",
    "            index = [\"phylum\", \"genus\", \"latitude\", \"longitude\"],\n",
    "            aggfunc = \"sum\").reset_index()\n",
    "country_pivot_by_location = country_pivot_by_location[country_pivot_by_location[\"latitude\"] != \"unknown\"]\n",
    "country_pivot_by_location"
   ],
   "id": "5084ff0f219e7b49",
   "outputs": [],
   "execution_count": null
  },
  {
   "metadata": {},
   "cell_type": "code",
   "source": [
    "# assign geopoints to the table based on the data point coordinates\n",
    "geo_df_for_plotting = gpd.GeoDataFrame(\n",
    "    country_pivot_by_location,\n",
    "    geometry = gpd.points_from_xy(country_pivot_by_location[\"longitude\"],\n",
    "                                        country_pivot_by_location[\"latitude\"]),\n",
    "    crs = \"EPSG:4326\"\n",
    ")\n",
    "geo_df_for_plotting"
   ],
   "id": "fb77dcdec11a15ef",
   "outputs": [],
   "execution_count": null
  },
  {
   "metadata": {},
   "cell_type": "code",
   "source": [
    "# code modified from https://github.com/catris25/Indonesian-Volcanoes-in-Folium and https://geopandas.org/en/stable/\n",
    "\n",
    "# define the region map based on the mean values of the latitudes and longitudes\n",
    "region_map = [geo_df_for_plotting['latitude'].mean(), geo_df_for_plotting['longitude'].mean()]\n",
    "\n",
    "# define the map attributes with folium\n",
    "map1 = fol.Map(location = region_map,\n",
    "                  tiles='Openstreetmap',\n",
    "                  zoom_start = 4,\n",
    "                  control_scale=True)\n",
    "\n",
    "# create a function that takes data frame and taxa level as inputs and plot the data points to the region map\n",
    "def add_points_to_map(geo_dataframe, taxa_level):\n",
    "    for index, loc in geo_dataframe.iterrows():\n",
    "        fol.CircleMarker([loc['latitude'],\n",
    "                             loc['longitude']],\n",
    "                            radius=2, weight=4,\n",
    "                            popup=loc[taxa_level]).add_to(map1)\n",
    "    fol.LayerControl().add_to(map1)\n",
    "    return map1\n",
    "\n",
    "# setup the function input and plot the map\n",
    "taxa = \"phylum\"\n",
    "add_points_to_map(geo_df_for_plotting, taxa)"
   ],
   "id": "33f680b8d23ccdfd",
   "outputs": [],
   "execution_count": null
  },
  {
   "metadata": {},
   "cell_type": "code",
   "source": [
    "# code extension: filter data points by genus\n",
    "map2 = fol.Map(location = region_map,\n",
    "                  tiles='Openstreetmap',\n",
    "                  zoom_start = 5,\n",
    "                  control_scale=True)\n",
    "\n",
    "# define a function that takes data frame, taxa level, and the name of the respective group we are interested in\n",
    "# the output should be a map with the data points we are interested in and we filter\n",
    "def plot_different_group(geo_dataframe, taxa_level, group_name):\n",
    "    for index, loc in geo_dataframe.iterrows():\n",
    "        if loc[taxa_level]== group_name[0]:\n",
    "            color = 'red'\n",
    "        elif loc[taxa_level]== group_name[1]:\n",
    "            color = \"green\"\n",
    "        elif loc[taxa_level]== group_name[2]:\n",
    "            color = \"blue\"\n",
    "        else:\n",
    "            color = 'black'\n",
    "        fol.RegularPolygonMarker([loc['latitude'],\n",
    "                                     loc['longitude']],\n",
    "                                    popup = loc[taxa_level],\n",
    "                                    fill_color=color,\n",
    "                                    number_of_sides=3,\n",
    "                                    radius=6,\n",
    "                                    rotation=30).add_to(map2)\n",
    "    fol.LayerControl().add_to(map2)\n",
    "    return map2\n",
    "\n",
    "# set the functions input and plot the map\n",
    "taxa = \"genus\"\n",
    "group = ['Acremonium', 'Albonectria', 'Arnium']\n",
    "plot_different_group(geo_df_for_plotting, taxa, group)"
   ],
   "id": "3d60d1efdd5e01c6",
   "outputs": [],
   "execution_count": null
  },
  {
   "metadata": {},
   "cell_type": "code",
   "source": [
    "# see how long it takes to execute the whole code\n",
    "end = time.perf_counter()\n",
    "(end-start)/60"
   ],
   "id": "38af2c7113934695",
   "outputs": [],
   "execution_count": null
  }
 ],
 "metadata": {
  "kernelspec": {
   "display_name": "Python 3",
   "language": "python",
   "name": "python3"
  },
  "language_info": {
   "codemirror_mode": {
    "name": "ipython",
    "version": 2
   },
   "file_extension": ".py",
   "mimetype": "text/x-python",
   "name": "python",
   "nbconvert_exporter": "python",
   "pygments_lexer": "ipython2",
   "version": "2.7.6"
  }
 },
 "nbformat": 4,
 "nbformat_minor": 5
}
